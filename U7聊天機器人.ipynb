{
 "cells": [
  {
   "cell_type": "code",
   "execution_count": 2,
   "id": "d3d43a17",
   "metadata": {},
   "outputs": [
    {
     "name": "stdout",
     "output_type": "stream",
     "text": [
      "Requirement already satisfied: lxml in c:\\users\\user\\anaconda3\\lib\\site-packages (5.3.0)\n",
      "Requirement already satisfied: newspaper3k in c:\\users\\user\\anaconda3\\lib\\site-packages (0.2.8)\n",
      "Requirement already satisfied: lxml_html_clean in c:\\users\\user\\anaconda3\\lib\\site-packages (0.4.0)\n",
      "Requirement already satisfied: requests>=2.10.0 in c:\\users\\user\\anaconda3\\lib\\site-packages (from newspaper3k) (2.31.0)\n",
      "Requirement already satisfied: tinysegmenter==0.3 in c:\\users\\user\\anaconda3\\lib\\site-packages (from newspaper3k) (0.3)\n",
      "Requirement already satisfied: feedparser>=5.2.1 in c:\\users\\user\\anaconda3\\lib\\site-packages (from newspaper3k) (6.0.11)\n",
      "Requirement already satisfied: PyYAML>=3.11 in c:\\users\\user\\anaconda3\\lib\\site-packages (from newspaper3k) (5.4.1)\n",
      "Requirement already satisfied: python-dateutil>=2.5.3 in c:\\users\\user\\anaconda3\\lib\\site-packages (from newspaper3k) (2.9.0.post0)\n",
      "Requirement already satisfied: jieba3k>=0.35.1 in c:\\users\\user\\anaconda3\\lib\\site-packages (from newspaper3k) (0.35.1)\n",
      "Requirement already satisfied: feedfinder2>=0.0.4 in c:\\users\\user\\anaconda3\\lib\\site-packages (from newspaper3k) (0.0.4)\n",
      "Requirement already satisfied: tldextract>=2.0.1 in c:\\users\\user\\anaconda3\\lib\\site-packages (from newspaper3k) (5.1.3)\n",
      "Requirement already satisfied: nltk>=3.2.1 in c:\\users\\user\\anaconda3\\lib\\site-packages (from newspaper3k) (3.6.1)\n",
      "Requirement already satisfied: Pillow>=3.3.0 in c:\\users\\user\\anaconda3\\lib\\site-packages (from newspaper3k) (8.2.0)\n",
      "Requirement already satisfied: beautifulsoup4>=4.4.1 in c:\\users\\user\\anaconda3\\lib\\site-packages (from newspaper3k) (4.12.3)\n",
      "Requirement already satisfied: cssselect>=0.9.2 in c:\\users\\user\\anaconda3\\lib\\site-packages (from newspaper3k) (1.2.0)\n",
      "Requirement already satisfied: soupsieve>1.2 in c:\\users\\user\\anaconda3\\lib\\site-packages (from beautifulsoup4>=4.4.1->newspaper3k) (2.2.1)\n",
      "Requirement already satisfied: six in c:\\users\\user\\anaconda3\\lib\\site-packages (from feedfinder2>=0.0.4->newspaper3k) (1.15.0)\n",
      "Requirement already satisfied: sgmllib3k in c:\\users\\user\\anaconda3\\lib\\site-packages (from feedparser>=5.2.1->newspaper3k) (1.0.0)\n",
      "Requirement already satisfied: click in c:\\users\\user\\anaconda3\\lib\\site-packages (from nltk>=3.2.1->newspaper3k) (8.1.7)\n",
      "Requirement already satisfied: tqdm in c:\\users\\user\\anaconda3\\lib\\site-packages (from nltk>=3.2.1->newspaper3k) (4.59.0)\n",
      "Requirement already satisfied: regex in c:\\users\\user\\anaconda3\\lib\\site-packages (from nltk>=3.2.1->newspaper3k) (2021.4.4)\n",
      "Requirement already satisfied: joblib in c:\\users\\user\\anaconda3\\lib\\site-packages (from nltk>=3.2.1->newspaper3k) (1.0.1)\n",
      "Requirement already satisfied: urllib3<3,>=1.21.1 in c:\\users\\user\\anaconda3\\lib\\site-packages (from requests>=2.10.0->newspaper3k) (1.26.4)\n",
      "Requirement already satisfied: certifi>=2017.4.17 in c:\\users\\user\\anaconda3\\lib\\site-packages (from requests>=2.10.0->newspaper3k) (2020.12.5)\n",
      "Requirement already satisfied: charset-normalizer<4,>=2 in c:\\users\\user\\anaconda3\\lib\\site-packages (from requests>=2.10.0->newspaper3k) (3.3.2)\n",
      "Requirement already satisfied: idna<4,>=2.5 in c:\\users\\user\\anaconda3\\lib\\site-packages (from requests>=2.10.0->newspaper3k) (2.10)\n",
      "Requirement already satisfied: requests-file>=1.4 in c:\\users\\user\\anaconda3\\lib\\site-packages (from tldextract>=2.0.1->newspaper3k) (2.1.0)\n",
      "Requirement already satisfied: filelock>=3.0.8 in c:\\users\\user\\anaconda3\\lib\\site-packages (from tldextract>=2.0.1->newspaper3k) (3.0.12)\n",
      "Requirement already satisfied: colorama in c:\\users\\user\\anaconda3\\lib\\site-packages (from click->nltk>=3.2.1->newspaper3k) (0.4.4)\n"
     ]
    }
   ],
   "source": [
    "!pip install lxml newspaper3k lxml_html_clean\n"
   ]
  },
  {
   "cell_type": "code",
   "execution_count": 3,
   "id": "b7f99207",
   "metadata": {
    "scrolled": true
   },
   "outputs": [],
   "source": [
    "from newspaper import Article\n",
    "import random\n",
    "import string\n",
    "import nltk\n"
   ]
  },
  {
   "cell_type": "code",
   "execution_count": 4,
   "id": "0c7af16f",
   "metadata": {},
   "outputs": [],
   "source": [
    "from sklearn.feature_extraction.text import CountVectorizer\n",
    "from sklearn.metrics.pairwise import cosine_similarity\n",
    "import numpy as np\n",
    "import warnings\n",
    "warnings.filterwarnings('ignore')"
   ]
  },
  {
   "cell_type": "code",
   "execution_count": 5,
   "id": "9e9012f7",
   "metadata": {},
   "outputs": [
    {
     "name": "stderr",
     "output_type": "stream",
     "text": [
      "[nltk_data] Downloading package punkt to\n",
      "[nltk_data]     C:\\Users\\user\\AppData\\Roaming\\nltk_data...\n",
      "[nltk_data]   Unzipping tokenizers\\punkt.zip.\n"
     ]
    },
    {
     "data": {
      "text/plain": [
       "True"
      ]
     },
     "execution_count": 5,
     "metadata": {},
     "output_type": "execute_result"
    }
   ],
   "source": [
    "nltk.download('punkt')"
   ]
  },
  {
   "cell_type": "code",
   "execution_count": 6,
   "id": "64335f2b",
   "metadata": {},
   "outputs": [],
   "source": [
    "article= Article('https://www.mayoclinic.org/diseases-conditions/chronic-kidney-disease/symptoms-causes/syc-20354521')\n",
    "article.download()\n",
    "article.parse()\n",
    "article.nlp()\n",
    "corpus=article.text\n",
    "\n"
   ]
  },
  {
   "cell_type": "code",
   "execution_count": 7,
   "id": "a827c626",
   "metadata": {},
   "outputs": [],
   "source": [
    "text=corpus\n",
    "sentence_list=nltk.sent_tokenize(text)\n"
   ]
  },
  {
   "cell_type": "code",
   "execution_count": 9,
   "id": "ff468fca",
   "metadata": {},
   "outputs": [],
   "source": [
    "def greeting_response(text):\n",
    "    text=text.lower()\n",
    "    bot_greetings=['howdy','hi','hey','hello','hola']\n",
    "    user_greetings=['hi','hey','hello','hola','greetings','wassup']\n",
    "    for word in text.split():\n",
    "        if word in user_greetings:\n",
    "            return random.choice(bot_greetings)"
   ]
  },
  {
   "cell_type": "code",
   "execution_count": 10,
   "id": "4c1242b1",
   "metadata": {},
   "outputs": [],
   "source": [
    "def index_sort(list_var): \n",
    "    length=len(list_var) \n",
    "    list_index=list(range(0, length)) \n",
    "    x=list_var\n",
    "\n",
    "    for i in range(length): \n",
    "        for j in range(length): \n",
    "            if x[list_index[i]]> x[list_index[j]]: \n",
    "                temp=list_index[i] \n",
    "                list_index[i]=list_index[j] \n",
    "                list_index[j]=temp\n",
    "\n",
    "    return list_index"
   ]
  },
  {
   "cell_type": "code",
   "execution_count": 14,
   "id": "624f4047",
   "metadata": {},
   "outputs": [],
   "source": [
    "def bot_response(user_input):\n",
    "    user_input=user_input.lower()\n",
    "    sentence_list.append(user_input)\n",
    "    bot_response=\"\"\n",
    "    cm-CountVectorizer().fit_transform(sentence_list)\n",
    "    similarity_scores=cosine_similarity(cm[-1], cm)\n",
    "    similarity_scores_list=similarity_scores.flatten()\n",
    "    index=index_sort(similarity_scores_list)\n",
    "    index=index[1:]\n",
    "    response_flag=0\n",
    "    j=0\n",
    "    for i in range(len(index)):\n",
    "        if similarity_scores_list[index[i]]> 0.0:\n",
    "            bot_response=bot_response+' '+sentence_list[index[i]]\n",
    "            response_flag=1\n",
    "            j-j+1\n",
    "        if j>2:\n",
    "            break\n",
    "    if response_flag ==0:\n",
    "        bot_response = bot_response + \" I apologize, I don't understand.\"\n",
    "    sentence_list.remove(user_input)\n",
    "    return bot_response"
   ]
  },
  {
   "cell_type": "code",
   "execution_count": 15,
   "id": "57602365",
   "metadata": {},
   "outputs": [
    {
     "name": "stdout",
     "output_type": "stream",
     "text": [
      "Doc Bot: I am Doctor Bot. I will answer your queries about Chronic Kidney Disease. If you want to exit, type bye.\n",
      "bye\n",
      "Doc Bot: Chat with you later!\n"
     ]
    }
   ],
   "source": [
    "print('Doc Bot: I am Doctor Bot. I will answer your queries about Chronic Kidney Disease. If you want to exit, type bye.')\n",
    "exit_list=['exit', 'see you later', 'bye', 'quit', 'break']\n",
    "while(True):\n",
    "    user_input = input()\n",
    "    if user_input.lower() in exit_list:\n",
    "        print('Doc Bot: Chat with you later!')\n",
    "        break\n",
    "    else:\n",
    "        if greeting_response(user_input) != None:\n",
    "            print('Doc Bot: '+greeting_response(user_input))\n",
    "        else:\n",
    "            print('Doc Bot: '+bot_response(user_input))"
   ]
  },
  {
   "cell_type": "code",
   "execution_count": null,
   "id": "cacc7092",
   "metadata": {},
   "outputs": [],
   "source": []
  }
 ],
 "metadata": {
  "kernelspec": {
   "display_name": "Python 3",
   "language": "python",
   "name": "python3"
  },
  "language_info": {
   "codemirror_mode": {
    "name": "ipython",
    "version": 3
   },
   "file_extension": ".py",
   "mimetype": "text/x-python",
   "name": "python",
   "nbconvert_exporter": "python",
   "pygments_lexer": "ipython3",
   "version": "3.8.8"
  }
 },
 "nbformat": 4,
 "nbformat_minor": 5
}
