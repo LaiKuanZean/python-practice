{
 "cells": [
  {
   "cell_type": "code",
   "execution_count": 1,
   "id": "9515d435",
   "metadata": {},
   "outputs": [],
   "source": [
    "import cv2\n",
    "import numpy as np"
   ]
  },
  {
   "cell_type": "code",
   "execution_count": 8,
   "id": "0a22f3c9",
   "metadata": {},
   "outputs": [],
   "source": [
    "image = cv2.imread('C:/Users/user/Downloads/fruits.JPG')\n",
    "hsv = cv2.cvtColor(image,cv2.COLOR_BGR2HSV)"
   ]
  },
  {
   "cell_type": "code",
   "execution_count": 9,
   "id": "053a1954",
   "metadata": {},
   "outputs": [],
   "source": [
    "lower_green = np.array([35,43,46])\n",
    "upper_green = np.array([77,255,255])"
   ]
  },
  {
   "cell_type": "code",
   "execution_count": 10,
   "id": "ba8a4980",
   "metadata": {},
   "outputs": [],
   "source": [
    "mask = cv2.inRange(hsv,lower_green,upper_green)\n",
    "res = cv2.bitwise_and(image,image,mask=mask)"
   ]
  },
  {
   "cell_type": "code",
   "execution_count": 11,
   "id": "c894c3ba",
   "metadata": {},
   "outputs": [],
   "source": [
    "cv2.imshow('Input',image)\n",
    "cv2.imshow('Result HSV',hsv)\n",
    "cv2.imshow('Result RES',res)"
   ]
  },
  {
   "cell_type": "code",
   "execution_count": null,
   "id": "4643669a",
   "metadata": {},
   "outputs": [],
   "source": [
    "cv2.waitKey(0)\n",
    "cv2.destoryAllWindows()"
   ]
  },
  {
   "cell_type": "code",
   "execution_count": null,
   "id": "b75b8078",
   "metadata": {},
   "outputs": [],
   "source": []
  }
 ],
 "metadata": {
  "kernelspec": {
   "display_name": "Python 3",
   "language": "python",
   "name": "python3"
  },
  "language_info": {
   "codemirror_mode": {
    "name": "ipython",
    "version": 3
   },
   "file_extension": ".py",
   "mimetype": "text/x-python",
   "name": "python",
   "nbconvert_exporter": "python",
   "pygments_lexer": "ipython3",
   "version": "3.8.8"
  }
 },
 "nbformat": 4,
 "nbformat_minor": 5
}
