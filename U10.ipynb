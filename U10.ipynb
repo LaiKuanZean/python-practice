{
 "cells": [
  {
   "cell_type": "code",
   "execution_count": 12,
   "id": "78dd67fe-4493-4bb2-96a0-182cf2d43cea",
   "metadata": {},
   "outputs": [],
   "source": [
    "\n",
    "import cv2\n",
    "import mediapipe as mp\n",
    "import time"
   ]
  },
  {
   "cell_type": "code",
   "execution_count": 13,
   "id": "6828f2b2-0440-4281-82f7-b12bf83e929f",
   "metadata": {},
   "outputs": [],
   "source": [
    "mpDraw=mp.solutions.drawing_utils\n",
    "mpPose=mp.solutions.pose\n",
    "pose=mpPose.Pose()"
   ]
  },
  {
   "cell_type": "code",
   "execution_count": 14,
   "id": "9a143618-6133-47f1-a346-564fa0349e3f",
   "metadata": {},
   "outputs": [],
   "source": [
    "cap=cv2.VideoCapture('C:/Users/user/Downloads/a.mp4')\n",
    "pT=0"
   ]
  },
  {
   "cell_type": "code",
   "execution_count": null,
   "id": "e6406288-ade5-4353-92cc-0673460b6f02",
   "metadata": {},
   "outputs": [],
   "source": [
    "while True:\n",
    "    success,img=cap.read()\n",
    "    imgRGB=cv2.cvtColor(img,cv2.COLOR_BGR2RGB)\n",
    "    results=pose.process(imgRGB)\n",
    "    if results.pose_landmarks:\n",
    "        mpDraw.draw_landmarks(img,results.pose_landmarks,mpPose.POSE_CONNECTIONS)\n",
    "        for id,lm in enumerate(results.pose_landmarks.landmark):\n",
    "            h,w,c=img.shape\n",
    "            cx,cy=int(lm.x*w),int(lm.y*h)\n",
    "            cv2.circle(img,(cx,cy),5,(255,0,0),cv2.FILLED)\n",
    "    cT=time.time()\n",
    "    fps=1/(cT-pT)\n",
    "    pT=cT\n",
    "    cv2.putText(img,str(int(fps)),(10,70),cv2.FONT_HERSHEY_PLAIN,3,(255,0,255),3)\n",
    "    cv2.imshow(\"Image\",img)\n",
    "    cv2.waitKey()"
   ]
  },
  {
   "cell_type": "code",
   "execution_count": null,
   "id": "89b65a21-7be2-4963-8b2a-d978a8f6321b",
   "metadata": {},
   "outputs": [],
   "source": [
    "cv2.destoryAllWindows()\n",
    "cap.release"
   ]
  },
  {
   "cell_type": "code",
   "execution_count": null,
   "id": "d0e22275-c0c5-493e-8527-70c8f8479692",
   "metadata": {},
   "outputs": [],
   "source": []
  }
 ],
 "metadata": {
  "kernelspec": {
   "display_name": "Python 3",
   "language": "python",
   "name": "python3"
  },
  "language_info": {
   "codemirror_mode": {
    "name": "ipython",
    "version": 3
   },
   "file_extension": ".py",
   "mimetype": "text/x-python",
   "name": "python",
   "nbconvert_exporter": "python",
   "pygments_lexer": "ipython3",
   "version": "3.8.8"
  }
 },
 "nbformat": 4,
 "nbformat_minor": 5
}
