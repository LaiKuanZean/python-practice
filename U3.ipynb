{
 "cells": [
  {
   "cell_type": "code",
   "execution_count": 1,
   "id": "18049d7a",
   "metadata": {},
   "outputs": [
    {
     "name": "stdout",
     "output_type": "stream",
     "text": [
      "Collecting SnowNLP\n",
      "  Downloading snownlp-0.12.3.tar.gz (37.6 MB)\n",
      "Building wheels for collected packages: SnowNLP\n",
      "  Building wheel for SnowNLP (setup.py): started\n",
      "  Building wheel for SnowNLP (setup.py): finished with status 'done'\n",
      "  Created wheel for SnowNLP: filename=snownlp-0.12.3-py3-none-any.whl size=37760957 sha256=83149088661ef5c445f21fe5833f646c70f935aabcd5fe4892d64e2c6f6cc21c\n",
      "  Stored in directory: c:\\users\\user\\appdata\\local\\pip\\cache\\wheels\\09\\14\\c5\\ea9aee34229caa97c6f6ff78c82c7f2b1a3423c1f37227b6a6\n",
      "Successfully built SnowNLP\n",
      "Installing collected packages: SnowNLP\n",
      "Successfully installed SnowNLP-0.12.3\n"
     ]
    }
   ],
   "source": [
    "!pip install SnowNLP"
   ]
  },
  {
   "cell_type": "code",
   "execution_count": 2,
   "id": "ab9df337",
   "metadata": {},
   "outputs": [],
   "source": [
    "from snownlp import SnowNLP\n",
    "text=u\"我今天很快樂。我今天很憤怒。\""
   ]
  },
  {
   "cell_type": "code",
   "execution_count": 3,
   "id": "ed70efc2",
   "metadata": {},
   "outputs": [
    {
     "name": "stdout",
     "output_type": "stream",
     "text": [
      "我今天很快樂\n",
      "我今天很憤怒\n"
     ]
    }
   ],
   "source": [
    "s=SnowNLP(text)\n",
    "for sentence in s.sentences:\n",
    "    print(sentence)"
   ]
  },
  {
   "cell_type": "code",
   "execution_count": 4,
   "id": "fc4c0913",
   "metadata": {},
   "outputs": [
    {
     "data": {
      "text/plain": [
       "0.9268071116367116"
      ]
     },
     "execution_count": 4,
     "metadata": {},
     "output_type": "execute_result"
    }
   ],
   "source": [
    "s1=SnowNLP(s.sentences[0])\n",
    "s1.sentiments"
   ]
  },
  {
   "cell_type": "code",
   "execution_count": 5,
   "id": "9b161bd4",
   "metadata": {},
   "outputs": [
    {
     "data": {
      "text/plain": [
       "0.1702660762575916"
      ]
     },
     "execution_count": 5,
     "metadata": {},
     "output_type": "execute_result"
    }
   ],
   "source": [
    "s1=SnowNLP(s.sentences[1])\n",
    "s1.sentiments"
   ]
  },
  {
   "cell_type": "code",
   "execution_count": null,
   "id": "defba165",
   "metadata": {},
   "outputs": [],
   "source": []
  }
 ],
 "metadata": {
  "kernelspec": {
   "display_name": "Python 3",
   "language": "python",
   "name": "python3"
  },
  "language_info": {
   "codemirror_mode": {
    "name": "ipython",
    "version": 3
   },
   "file_extension": ".py",
   "mimetype": "text/x-python",
   "name": "python",
   "nbconvert_exporter": "python",
   "pygments_lexer": "ipython3",
   "version": "3.8.8"
  }
 },
 "nbformat": 4,
 "nbformat_minor": 5
}
